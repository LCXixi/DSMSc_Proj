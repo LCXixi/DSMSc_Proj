{
 "cells": [
  {
   "cell_type": "markdown",
   "id": "bb3c941a",
   "metadata": {},
   "source": [
    " ## Data Perturbation\n",
    "\n",
    "# 1. Adult dataset"
   ]
  },
  {
   "cell_type": "code",
   "execution_count": 4,
   "id": "4b09c44a",
   "metadata": {},
   "outputs": [],
   "source": [
    "import numpy as np\n",
    "import pandas as pd\n",
    "from pmlb import fetch_data\n",
    "\n",
    "def data_perturbation(data, epsilon):\n",
    "    perturbed_data = []\n",
    "    for value in data:\n",
    "        noise = np.random.laplace(scale=1/epsilon)  # 使用拉普拉斯噪声\n",
    "        perturbed_value = value + noise\n",
    "        perturbed_data.append(perturbed_value)\n",
    "    return perturbed_data\n",
    "\n",
    "#传入数据\n",
    "#file_name='./encoded by account.csv'\n",
    "#names=['from_totally_fake_account','monopoly_money_amount','to_randomly_generated_account','not_happened_yet_date', 'Year', 'Month', 'Day']\n",
    "#data = pd.read_csv(file_name)\n",
    "adult = fetch_data('adult')\n",
    "X = adult.drop(columns=['education-num', 'fnlwgt', 'target', 'native-country'])\n",
    "y = adult.loc[:, 'target']\n",
    "feature_names = list(X.columns)\n",
    "\n",
    "# 示例使用一个数值型数据列表\n",
    "original_data = adult.age\n",
    "\n",
    "# 设置隐私参数 epsilon，控制噪声的大小和隐私保护级别\n",
    "epsilon = 0.1\n",
    "\n",
    "# 扰动数据\n",
    "perturbed_data = data_perturbation(original_data, epsilon)\n",
    "\n",
    "#print(\"原始数据:\", original_data)\n",
    "#print(\"扰动后的数据:\", perturbed_data)"
   ]
  },
  {
   "cell_type": "code",
   "execution_count": 5,
   "id": "e35fe88e",
   "metadata": {},
   "outputs": [],
   "source": [
    "perturbed_data = pd.DataFrame(perturbed_data, columns = ['age_per'])\n",
    "adult['age_per'] = perturbed_data['age_per']"
   ]
  },
  {
   "cell_type": "code",
   "execution_count": 7,
   "id": "fd163b6c",
   "metadata": {},
   "outputs": [
    {
     "name": "stdout",
     "output_type": "stream",
     "text": [
      "        age  workclass    fnlwgt  education  education-num  marital-status  \\\n",
      "0      39.0          7   77516.0          9           13.0               4   \n",
      "1      50.0          6   83311.0          9           13.0               2   \n",
      "2      38.0          4  215646.0         11            9.0               0   \n",
      "3      53.0          4  234721.0          1            7.0               2   \n",
      "4      28.0          4  338409.0          9           13.0               2   \n",
      "...     ...        ...       ...        ...            ...             ...   \n",
      "48837  39.0          4  215419.0          9           13.0               0   \n",
      "48838  64.0          0  321403.0         11            9.0               6   \n",
      "48839  38.0          4  374983.0          9           13.0               2   \n",
      "48840  44.0          4   83891.0          9           13.0               0   \n",
      "48841  35.0          5  182148.0          9           13.0               2   \n",
      "\n",
      "       occupation  relationship  race  sex  capital-gain  capital-loss  \\\n",
      "0               1             1     4    1        2174.0           0.0   \n",
      "1               4             0     4    1           0.0           0.0   \n",
      "2               6             1     4    1           0.0           0.0   \n",
      "3               6             0     2    1           0.0           0.0   \n",
      "4              10             5     2    0           0.0           0.0   \n",
      "...           ...           ...   ...  ...           ...           ...   \n",
      "48837          10             1     4    0           0.0           0.0   \n",
      "48838           0             2     2    1           0.0           0.0   \n",
      "48839          10             0     4    1           0.0           0.0   \n",
      "48840           1             3     1    1        5455.0           0.0   \n",
      "48841           4             0     4    1           0.0           0.0   \n",
      "\n",
      "       hours-per-week  native-country  target    age_per  \n",
      "0                40.0              39       1  42.417258  \n",
      "1                13.0              39       1  44.852248  \n",
      "2                40.0              39       1  27.414766  \n",
      "3                40.0              39       1  53.587893  \n",
      "4                40.0               5       1  34.646993  \n",
      "...               ...             ...     ...        ...  \n",
      "48837            36.0              39       1  47.083601  \n",
      "48838            40.0              39       1  61.538754  \n",
      "48839            50.0              39       1  36.893723  \n",
      "48840            40.0              39       1  48.250769  \n",
      "48841            60.0              39       0  62.079927  \n",
      "\n",
      "[48842 rows x 16 columns]\n"
     ]
    }
   ],
   "source": [
    "print(adult)"
   ]
  },
  {
   "cell_type": "code",
   "execution_count": null,
   "id": "ad98021a",
   "metadata": {},
   "outputs": [],
   "source": []
  }
 ],
 "metadata": {
  "kernelspec": {
   "display_name": "Python 3 (ipykernel)",
   "language": "python",
   "name": "python3"
  },
  "language_info": {
   "codemirror_mode": {
    "name": "ipython",
    "version": 3
   },
   "file_extension": ".py",
   "mimetype": "text/x-python",
   "name": "python",
   "nbconvert_exporter": "python",
   "pygments_lexer": "ipython3",
   "version": "3.10.13"
  }
 },
 "nbformat": 4,
 "nbformat_minor": 5
}
